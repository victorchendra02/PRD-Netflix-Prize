{
 "cells": [
  {
   "attachments": {},
   "cell_type": "markdown",
   "metadata": {},
   "source": [
    "<div style=\"text-align: center;\">\n",
    "    <hr>\n",
    "    <h2>Prapemrosesan & Rekayasa Data - IBDA3111</h2>\n",
    "    <h3>Dimensionality Reduction - Assignment</h3>\n",
    "    <h4>Victor Chendra - <b>202000338</b></h4>\n",
    "    <hr>\n",
    "</div>\n",
    "Dataset source: <a href=\"https://www.kaggle.com/datasets/netflix-inc/netflix-prize-data\">Netflix Prize data - kaggle.com</a>\n"
   ]
  },
  {
   "attachments": {},
   "cell_type": "markdown",
   "metadata": {},
   "source": [
    "## Part 1 \n",
    "\n",
    "Part 1 ini hanya untuk membaca, menulis dataset menggunakan ETL, dan <b>cleaning dataset</b> (input Movie ID).\n",
    "<hr>"
   ]
  },
  {
   "cell_type": "code",
   "execution_count": 2,
   "metadata": {},
   "outputs": [],
   "source": [
    "# Import Library needed\n",
    "\n",
    "import numpy as np\n",
    "import pandas as pd\n",
    "from pickle import dump, load\n",
    "from time import perf_counter\n"
   ]
  },
  {
   "attachments": {},
   "cell_type": "markdown",
   "metadata": {},
   "source": [
    "#### Load 4 dataset & concatenate\n",
    "My computer takes 45.1883s to run this cell below."
   ]
  },
  {
   "cell_type": "code",
   "execution_count": 2,
   "metadata": {},
   "outputs": [
    {
     "name": "stdout",
     "output_type": "stream",
     "text": [
      "Time to read & merge 4 dataset: 45.1883s\n"
     ]
    }
   ],
   "source": [
    "# # Define function to load 4 dataset\n",
    "# def load_dataset():\n",
    "#     df = [\n",
    "#         pd.read_csv(\"combined_data_1.txt\", header=None, names=[\"User ID\", \"Rating\"], usecols=[0, 1]),\n",
    "#         pd.read_csv(\"combined_data_2.txt\", header=None, names=[\"User ID\", \"Rating\"], usecols=[0, 1]),\n",
    "#         pd.read_csv(\"combined_data_3.txt\", header=None, names=[\"User ID\", \"Rating\"], usecols=[0, 1]),\n",
    "#         pd.read_csv(\"combined_data_4.txt\", header=None, names=[\"User ID\", \"Rating\"], usecols=[0, 1]),\n",
    "#           ]\n",
    "\n",
    "#     # Merge all dataset\n",
    "#     df = pd.concat([df[0], df[1], df[2], df[3]])\n",
    "#     # Adding new column\n",
    "#     df[\"Movie ID\"] = [np.nan] * df.shape[0]\n",
    "    \n",
    "#     return df\n",
    "\n",
    "\n",
    "# start = perf_counter()\n",
    "# df = load_dataset()\n",
    "# end = perf_counter()\n",
    "\n",
    "# print(f'Time to read & merge 4 dataset: {end - start:.4f}s')\n",
    "# # Save it\n",
    "# dump(df, open(\"all_combined_data.pkl\", \"wb\"))\n"
   ]
  },
  {
   "attachments": {},
   "cell_type": "markdown",
   "metadata": {},
   "source": [
    "#### Inpute movie id\n",
    "My computer takes 1 hour 33 minutes (93 minutes == 5594.6570s) to run this cell below. Be careful when running this"
   ]
  },
  {
   "cell_type": "code",
   "execution_count": 4,
   "metadata": {},
   "outputs": [
    {
     "name": "stdout",
     "output_type": "stream",
     "text": [
      "Done imputing!\n",
      "Time to inpute movie id: 5594.6570s\n"
     ]
    }
   ],
   "source": [
    "# deleted = []\n",
    "# def inpute_movie_id(dataframe):\n",
    "#     current = dataframe.iloc[0, 0][:-1]\n",
    "    \n",
    "#     for i in range(dataframe.shape[0]):\n",
    "#         if dataframe.iloc[i, 0][-1] == \":\":\n",
    "#             current = dataframe.iloc[i, 0][:-1]\n",
    "#             deleted.append(i)\n",
    "        \n",
    "#         dataframe.iloc[i, 2] = current\n",
    "        \n",
    "#     print(\"Done imputing!\")\n",
    "#     return dataframe\n",
    "\n",
    "\n",
    "# df = load(open(\"all_combined_data.pkl\", \"rb\"))\n",
    "# start = perf_counter()\n",
    "# df_new = inpute_movie_id(df)\n",
    "# end = perf_counter()\n",
    "# print(f'Time to inpute movie id: {end - start:.4f}s')\n",
    "\n",
    "# # Save it\n",
    "# dump(df_new, open(\"inputed_combined_data.pkl\", \"wb\"))\n",
    "# dump(deleted, open(\"deleted.pkl\", \"wb\"))\n"
   ]
  },
  {
   "attachments": {},
   "cell_type": "markdown",
   "metadata": {},
   "source": [
    "#### Drop NA"
   ]
  },
  {
   "cell_type": "code",
   "execution_count": null,
   "metadata": {},
   "outputs": [],
   "source": [
    "# # Drop NA\n",
    "# df_new = df_new.reset_index(drop=True)\n",
    "# df_new.drop(index=deleted, inplace=True)\n",
    "# df_new = df_new.reset_index(drop=True)\n",
    "\n",
    "# # Set type float\n",
    "# df_new['User ID'] = df_new['User ID'].astype(np.int64)\n",
    "# # df_new['Rating'] = df_new['Rating'].astype(np.float64)\n",
    "# # df_new['Movie ID'] = df_new['Movie ID'].astype(np.int64)\n",
    "\n",
    "# dump(df_new, open(\"final_combined_data.pkl\", \"wb\"))\n"
   ]
  },
  {
   "cell_type": "code",
   "execution_count": null,
   "metadata": {},
   "outputs": [],
   "source": []
  }
 ],
 "metadata": {
  "kernelspec": {
   "display_name": "Python 3.10.2 64-bit",
   "language": "python",
   "name": "python3"
  },
  "language_info": {
   "codemirror_mode": {
    "name": "ipython",
    "version": 3
   },
   "file_extension": ".py",
   "mimetype": "text/x-python",
   "name": "python",
   "nbconvert_exporter": "python",
   "pygments_lexer": "ipython3",
   "version": "3.10.2 (tags/v3.10.2:a58ebcc, Jan 17 2022, 14:12:15) [MSC v.1929 64 bit (AMD64)]"
  },
  "orig_nbformat": 4,
  "vscode": {
   "interpreter": {
    "hash": "ae1ddcff7fb3589e56c1735bd04bc544f28a9960cac663cd0016f5d7384b912c"
   }
  }
 },
 "nbformat": 4,
 "nbformat_minor": 2
}
